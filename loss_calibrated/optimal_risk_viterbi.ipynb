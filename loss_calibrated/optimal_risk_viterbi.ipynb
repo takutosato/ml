{
 "cells": [
  {
   "cell_type": "code",
   "execution_count": 132,
   "metadata": {},
   "outputs": [],
   "source": [
    "import numpy as np\n",
    "from scipy.stats import norm\n",
    "import matplotlib.pyplot as plt"
   ]
  },
  {
   "cell_type": "code",
   "execution_count": 174,
   "metadata": {},
   "outputs": [],
   "source": [
    "# loss matrix L_ij is the cost of guessing i when the truth is j\n",
    "L = np.array([[1,1,1], [1,1,5], [1,5,1]])\n",
    "\n",
    "# Transition matrix A_ij is the probabilty p(z_{t+1} = j|z_t = i)\n",
    "# i.e. A_ij is the probability of going from i to j\n",
    "K = 3\n",
    "# A = np.ones((K,K)) * (1.0/3)\n",
    "A = np.array([[0.3, 0.1, 0.6], [0.1, 0.4, 0.5], [0.1, 0.1, 0.8]])\n",
    "\n",
    "# initial state probability\n",
    "pi = [ 0.6, 0.3, 0.1 ]\n",
    "\n",
    "# emission probabilities - assume Gaussian\n",
    "u = [ 0, 5, 10 ]\n",
    "sigma = np.ones(len(u))"
   ]
  },
  {
   "cell_type": "code",
   "execution_count": 176,
   "metadata": {},
   "outputs": [
    {
     "data": {
      "text/plain": [
       "array([1., 1., 1.])"
      ]
     },
     "execution_count": 176,
     "metadata": {},
     "output_type": "execute_result"
    }
   ],
   "source": [
    "np.argmax(np.random.multinomial(1, pi))\n",
    "np.sum(A, axis=1)"
   ]
  },
  {
   "cell_type": "code",
   "execution_count": 177,
   "metadata": {},
   "outputs": [
    {
     "data": {
      "text/plain": [
       "array([1., 2., 2., 2., 2., 1., 1., 2., 2., 0.])"
      ]
     },
     "execution_count": 177,
     "metadata": {},
     "output_type": "execute_result"
    },
    {
     "data": {
      "image/png": "[encoded data removed]",
      "text/plain": [
       "<Figure size 432x288 with 1 Axes>"
      ]
     },
     "metadata": {
      "needs_background": "light"
     },
     "output_type": "display_data"
    }
   ],
   "source": [
    "# generate data\n",
    "T = 10\n",
    "def generate_HMM(T):\n",
    "    ''' TODO: loss calibrated data generation'''\n",
    "    X = np.zeros(T)\n",
    "    Z = np.zeros(T)\n",
    "    z = np.argmax(np.random.multinomial(1, pi))\n",
    "    for t in np.arange(T):\n",
    "        X[t] = np.random.normal(u[z], sigma[z])\n",
    "        Z[t] = z\n",
    "        z = np.argmax(np.random.multinomial(1, A[z,:]))\n",
    "    return X,Z\n",
    "X,Z = generate_HMM(T)\n",
    "\n",
    "plt.plot(X, np.zeros(T), 'ro')\n",
    "plt.plot(u, np.zeros(len(u)), 'bo', label=\"Gaussian means\")\n",
    "plt.legend()\n",
    "Z"
   ]
  },
  {
   "cell_type": "markdown",
   "metadata": {},
   "source": [
    "#### Warmup: the standard Viterbi"
   ]
  },
  {
   "cell_type": "code",
   "execution_count": 179,
   "metadata": {},
   "outputs": [
    {
     "name": "stdout",
     "output_type": "stream",
     "text": [
      "*** true sequence ***\n",
      "[1. 2. 2. 2. 2. 1. 1. 2. 2. 0.]\n",
      "*** viterbi sequence ***\n",
      "[1. 2. 2. 2. 2. 1. 1. 2. 2. 0.]\n",
      "*** observed data ***\n",
      "[ 6.17884645  7.88855695  9.29019941 11.74232107 10.29441461  4.97551506\n",
      "  3.67737481  8.09368493  9.78807331 -1.38754596]\n"
     ]
    }
   ],
   "source": [
    "# practice round: implement the regular Viterbi algorithm\n",
    "def gaussian_emission_prob(x, state):\n",
    "    return norm.pdf(x, u[state], sigma[state])\n",
    "\n",
    "# initialize message\n",
    "s_n_minus_1 = np.zeros(K)\n",
    "s_n = np.zeros(K)\n",
    "S = np.zeros((T, K, K))\n",
    "P = np.zeros((T, K), dtype=int) # P for Path\n",
    "\n",
    "t = 0\n",
    "for k in np.arange(K):\n",
    "    s_n_minus_1[k] = np.log(pi[k]) + np.log(gaussian_emission_prob(X[t], k))\n",
    "\n",
    "# extend\n",
    "import pdb\n",
    "for t in np.arange(T-1) + 1:\n",
    "    for k in np.arange(K): # z_n\n",
    "        m = -np.inf # m for max\n",
    "        m_l = -1\n",
    "        for l in np.arange(K): # z_{n-1}\n",
    "            # sum\n",
    "            s = np.log(gaussian_emission_prob(X[t], k)) + np.log(A[l,k]) + s_n_minus_1[l]\n",
    "            S[t, k, l] = s\n",
    "\n",
    "            # max\n",
    "            if s > m: \n",
    "                m_l = l\n",
    "                m = s\n",
    "\n",
    "        # for state k at time z_n, record the optimal z_{n-1} state and the associated p(z_1, ...., z_{n-1}=m_l, z_n=k)\n",
    "        P[t,k] = m_l\n",
    "        s_n[k] = m\n",
    "    s_n_minus_1 = np.copy(s_n)\n",
    "\n",
    "np.argmax(s_n)\n",
    "\n",
    "# backtrace\n",
    "viterbi_path = np.zeros(T)\n",
    "viterbi_path[T-1] = np.argmax(s_n)\n",
    "\n",
    "for t in np.arange(T-1)[::-1]:\n",
    "    viterbi_path[t] = P[t+1, int(viterbi_path[t+1])]\n",
    "print(\"*** true sequence ***\")\n",
    "print(Z)\n",
    "print(\"*** viterbi sequence ***\")\n",
    "print(viterbi_path)\n",
    "print(\"*** observed data ***\")\n",
    "print(X)"
   ]
  },
  {
   "cell_type": "markdown",
   "metadata": {},
   "source": [
    "#### The loss-aware Viterbi algorithm (the max-sum-product algorithm)\n",
    "\n",
    "Suppose that we monitor the temperature at a nuclear reactor every minute. When the temperature remains above a critical tempearture, say 800 degree celcius, then we must turn the reactor off to avoid meltdown. At the same time, turning the factory off costs money, and we want to avoid turning it off when there isn't a problem.\n",
    "\n",
    "The loss function $L(t, \\hat{z})$ may be summarized in the following matrix:\n",
    "\n",
    "| $L(t, \\hat{z})$ | Off         | On   |\n",
    "| --------------- |:-----------:| ----:|\n",
    "| Low (< 500)     | 10          | 1    |\n",
    "| Med (500, 800)  | 10          | 1    |\n",
    "| High (> 800)    | 1           | 1000 |\n",
    "\n",
    "And we will study the effect of this using the standard Viterbi and the loss calibrated Viterbi."
   ]
  },
  {
   "cell_type": "code",
   "execution_count": 243,
   "metadata": {},
   "outputs": [
    {
     "data": {
      "text/plain": [
       "[<matplotlib.lines.Line2D at 0x1a1d50d940>]"
      ]
     },
     "execution_count": 243,
     "metadata": {},
     "output_type": "execute_result"
    },
    {
     "data": {
      "image/png": "[encoded data removed]",
      "text/plain": [
       "<Figure size 432x288 with 2 Axes>"
      ]
     },
     "metadata": {
      "needs_background": "light"
     },
     "output_type": "display_data"
    }
   ],
   "source": [
    "# st: 6:29 (why so late?)\n",
    "# end: 7:10 (lost 2,3 min to espn)\n",
    "# st: 7:12\n",
    "\n",
    "# st: 5:03 :(\n",
    "\n",
    "# st: 5:38\n",
    "\n",
    "# Generate data:\n",
    "# Suppose there are three states (low, med, high) each with a Gausisan emission.\n",
    "\n",
    "T = 50 # time steps\n",
    "K = 3\n",
    "\n",
    "u = np.array([500, 700, 800])\n",
    "sigma = np.ones(K) * 50\n",
    "\n",
    "def gaussian_emission_prob(x, state):\n",
    "    return norm.pdf(x, u[state], sigma[state])\n",
    "\n",
    "emission_prob = gaussian_emission_prob\n",
    "\n",
    "# plot the emission distributions\n",
    "num_points = 100\n",
    "xmin, xmax = 300, 1000\n",
    "x = np.linspace(xmin, xmax, num_points)\n",
    "plt.subplot(1,2,1)\n",
    "plt.plot(x, norm.pdf(x, u[0], sigma[0]))\n",
    "plt.plot(x, norm.pdf(x, u[1], sigma[1]))\n",
    "plt.plot(x, norm.pdf(x, u[2], sigma[2]))\n",
    "plt.xlim(xmin, xmax)\n",
    "\n",
    "# sample points\n",
    "# the transition matrix A_ij = p(i|j) i.e. columns add to 1 (so I can left multiply by the vector)\n",
    "A = np.array([[0.5, 0.4, 0.1],\n",
    "              [0.4, 0.4, 0.2],\n",
    "              [0.2, 0.6, 0.2]]).T # note the transpose\n",
    "pi = np.random.dirichlet(np.ones(K))\n",
    "\n",
    "Z = np.zeros((T, K))\n",
    "X = np.zeros(T)\n",
    "\n",
    "Z[0] = np.random.multinomial(1, pi)\n",
    "k = np.argmax(Z[0])\n",
    "X[0] = np.random.normal(u[k], sigma[k])\n",
    "for i in np.arange(T-1) + 1:\n",
    "    Z[i] = np.random.multinomial(1, np.dot(A, Z[i-1]))\n",
    "    k = np.argmax(Z[i])\n",
    "    X[i] = np.random.normal(u[k], sigma[k])\n",
    "plt.plot(X, np.zeros(T), 'ro')\n",
    "\n",
    "plt.subplot(1,2,2)\n",
    "plt.plot(np.linspace(0, T, T), np.argmax(Z, axis=1))"
   ]
  },
  {
   "cell_type": "code",
   "execution_count": 253,
   "metadata": {},
   "outputs": [
    {
     "name": "stdout",
     "output_type": "stream",
     "text": [
      "after one step\n",
      "789.9759082883348 [0. 0. 1.]\n",
      "[24.54198932 47.48689748 40.43666767]\n",
      "[0 1 0]\n",
      "[[24.54198932 24.54198932]\n",
      " [47.48689748 47.48689748]\n",
      " [40.43666767 40.43666767]]\n",
      "after two steps\n",
      "693.6454355603825 [0. 1. 0.]\n",
      "[98.3825296  80.06747271 52.38726038]\n",
      "[0 1 0]\n",
      "[[98.3825296  98.3825296 ]\n",
      " [80.06747271 80.06747271]\n",
      " [52.38726038 52.38726038]]\n"
     ]
    }
   ],
   "source": [
    "# Learn the parameter using the forward and backward algorithm (as a possible extension...will that change the learning?)\n",
    "# Let's get to an hour, then take a break and work on real analysis, baby. I get so much done in an hour!!!\n",
    "\n",
    "# L_ij stores the cost of decision j when the true state is i, where\n",
    "# i = [ low, med, high ]\n",
    "# j = [ off, on ] \n",
    "L = np.array([[10, 1], [10, 1], [1, 100]]) # since this is a multiplicative error, I think the \"unit\" loss should be 1.\n",
    "M = 2 # decision dimension\n",
    "\n",
    "# loss-aware Viterbi\n",
    "# the element S_jk stores the message of decision k at time 1 when z_2 = j\n",
    "# todo: the precise probabilisitc interpretation of the \"score\" is needed\n",
    "S_1 = np.zeros((K, M))\n",
    "\n",
    "# for t in np.arange(T):\n",
    "\n",
    "# time 1 (first step)\n",
    "for k in np.arange(M): # iterate over possible decisions\n",
    "    for j in np.arange(K): # iterate over z_2\n",
    "        for i in np.arange(K): # sum over z_1\n",
    "            S_1[j,k] += np.log(L[i, k]) + np.log(emission_prob(X[1], j)) + np.log(A[i, j]) + np.log(emission_prob(X[0], i)) * np.log(pi[i])\n",
    "\n",
    "# choose the optimum decision at time 1 for each z_2\n",
    "phi_1 = np.argmin(S_1, axis=1) # optimal decision for each value of z_2\n",
    "u_1 = np.min(S_1, axis=1) # for each value of z_2, stores the minimum of the message over guesses\n",
    "\n",
    "print(\"after one step\")\n",
    "print(X[0], Z[0])\n",
    "print(u_1)\n",
    "print(phi_1)\n",
    "print(S_1)\n",
    "# The values are not probabilities (i.e. not < 0), but that's OK.\n",
    "\n",
    "# time 2\n",
    "S_2 = np.zeros((K, M))\n",
    "for k in np.arange(M): # iterate over possible decisions\n",
    "    for j in np.arange(K): # iterate over z_3\n",
    "        for i in np.arange(K): # sum over z_2\n",
    "            S_2[j,k] += np.log(L[i, k]) + np.log(emission_prob(X[2], j)) + np.log(A[i, j]) + u_1[i]\n",
    "\n",
    "# choose the optimum decision at time 2 for each z_3\n",
    "phi_2 = np.argmin(S_2, axis=1) # optimal decision for each value of z_2\n",
    "u_2 = np.min(S_2, axis=1) # for each value of z_2, stores the minimum of the message over guesses\n",
    "\n",
    "print(\"after two steps\")\n",
    "print(X[1], Z[1])\n",
    "print(u_2)\n",
    "print(phi_2)\n",
    "print(S_2)"
   ]
  },
  {
   "cell_type": "markdown",
   "metadata": {},
   "source": [
    "The hope is that, the decision sequence obtained this way will be different from say, running Viterbi. In particular, that it is able to approximately model the posterior accurately in the regions where we care about.\n",
    "\n",
    "The problem, though, is that Viterbi doesn't give you a probability. It's just the most likely sequence, and there's no indication of how likely it is with respect to exponentially many other possible sequece paths. It may be that the posterior terrain is really multi-modal.\n",
    "\n",
    "But don't think too hard about that. It's just a toy modal. We can twist the scenario as we wish -- for instance, maybe what we care about is whether the plant was hot for more than a long period of time.\n",
    "\n",
    "But there's nothing approximate happening here, so....one step at a time. Let's see where we end up now. \n",
    "\n",
    "\n",
    "\n"
   ]
  },
  {
   "cell_type": "code",
   "execution_count": 29,
   "metadata": {},
   "outputs": [
    {
     "ename": "NameError",
     "evalue": "name 'S' is not defined",
     "output_type": "error",
     "traceback": [
      "\u001b[0;31m---------------------------------------------------------------------------\u001b[0m",
      "\u001b[0;31mNameError\u001b[0m                                 Traceback (most recent call last)",
      "\u001b[0;32m<ipython-input-29-2c7a78c20678>\u001b[0m in \u001b[0;36m<module>\u001b[0;34m\u001b[0m\n\u001b[1;32m     30\u001b[0m \u001b[0;34m\u001b[0m\u001b[0m\n\u001b[1;32m     31\u001b[0m \u001b[0;31m# choose optimum guess z-hat at time 0 for each z at time 1\u001b[0m\u001b[0;34m\u001b[0m\u001b[0;34m\u001b[0m\u001b[0;34m\u001b[0m\u001b[0m\n\u001b[0;32m---> 32\u001b[0;31m \u001b[0mphi1\u001b[0m \u001b[0;34m=\u001b[0m \u001b[0mnp\u001b[0m\u001b[0;34m.\u001b[0m\u001b[0margmin\u001b[0m\u001b[0;34m(\u001b[0m\u001b[0mS\u001b[0m\u001b[0;34m[\u001b[0m\u001b[0;36m1\u001b[0m\u001b[0;34m]\u001b[0m\u001b[0;34m,\u001b[0m \u001b[0maxis\u001b[0m\u001b[0;34m=\u001b[0m\u001b[0;36m0\u001b[0m\u001b[0;34m)\u001b[0m\u001b[0;34m\u001b[0m\u001b[0;34m\u001b[0m\u001b[0m\n\u001b[0m\u001b[1;32m     33\u001b[0m \u001b[0;34m\u001b[0m\u001b[0m\n\u001b[1;32m     34\u001b[0m \u001b[0;31m# time 2 (last step)\u001b[0m\u001b[0;34m\u001b[0m\u001b[0;34m\u001b[0m\u001b[0;34m\u001b[0m\u001b[0m\n",
      "\u001b[0;31mNameError\u001b[0m: name 'S' is not defined"
     ]
    }
   ],
   "source": [
    "\n",
    "\n",
    "# time 1\n",
    "S_2 = np.zeros((K,K))\n",
    "for k in np.arange(K): # iterate over possible guesses at time t\n",
    "    for j in np.arange(K): # iterate over z_{t+1}\n",
    "        for i in np.arange(K): # sum over z_t\n",
    "            pass\n",
    "            # S_2[k,j] += L[k, i] * emission_prob(X[2], j) * A[i, j] * 3 start here\n",
    "            \n",
    "# choose optimum guess z-hat at time 0 for each z at time 1\n",
    "phi1 = np.argmin(S[1], axis=0)\n",
    "\n",
    "# time 2 (last step)\n",
    "S_2 = np.zeros((K,K))\n",
    "for k in np.arange(K): # iterate over possible guesses at time t\n",
    "    # no iteration over the next time step!\n",
    "    for i in np.arange(K): # sum over z_t\n",
    "        S_2[k,j] += L[k, i] * S_1[phi1[j], i]"
   ]
  },
  {
   "cell_type": "code",
   "execution_count": 6,
   "metadata": {},
   "outputs": [
    {
     "name": "stdout",
     "output_type": "stream",
     "text": [
      "[4.34289548 3.25522367 4.28217096]\n",
      "[1. 1. 1.]\n"
     ]
    },
    {
     "ename": "NameError",
     "evalue": "name 'S_0' is not defined",
     "output_type": "error",
     "traceback": [
      "\u001b[0;31m---------------------------------------------------------------------------\u001b[0m",
      "\u001b[0;31mNameError\u001b[0m                                 Traceback (most recent call last)",
      "\u001b[0;32m<ipython-input-6-66d2ff35fc93>\u001b[0m in \u001b[0;36m<module>\u001b[0;34m\u001b[0m\n\u001b[1;32m      1\u001b[0m \u001b[0mprint\u001b[0m\u001b[0;34m(\u001b[0m\u001b[0mX\u001b[0m\u001b[0;34m)\u001b[0m\u001b[0;34m\u001b[0m\u001b[0;34m\u001b[0m\u001b[0m\n\u001b[1;32m      2\u001b[0m \u001b[0mprint\u001b[0m\u001b[0;34m(\u001b[0m\u001b[0mZ\u001b[0m\u001b[0;34m)\u001b[0m\u001b[0;34m\u001b[0m\u001b[0;34m\u001b[0m\u001b[0m\n\u001b[0;32m----> 3\u001b[0;31m \u001b[0mprint\u001b[0m\u001b[0;34m(\u001b[0m\u001b[0mS_0\u001b[0m\u001b[0;34m)\u001b[0m\u001b[0;34m\u001b[0m\u001b[0;34m\u001b[0m\u001b[0m\n\u001b[0m\u001b[1;32m      4\u001b[0m \u001b[0mprint\u001b[0m\u001b[0;34m(\u001b[0m\u001b[0mS_1\u001b[0m\u001b[0;34m)\u001b[0m\u001b[0;34m\u001b[0m\u001b[0;34m\u001b[0m\u001b[0m\n\u001b[1;32m      5\u001b[0m \u001b[0mprint\u001b[0m\u001b[0;34m(\u001b[0m\u001b[0mS_2\u001b[0m\u001b[0;34m)\u001b[0m\u001b[0;34m\u001b[0m\u001b[0;34m\u001b[0m\u001b[0m\n",
      "\u001b[0;31mNameError\u001b[0m: name 'S_0' is not defined"
     ]
    }
   ],
   "source": [
    "print(X)\n",
    "print(Z)\n",
    "print(S_0)\n",
    "print(S_1)\n",
    "print(S_2)"
   ]
  },
  {
   "cell_type": "code",
   "execution_count": 7,
   "metadata": {},
   "outputs": [
    {
     "name": "stdout",
     "output_type": "stream",
     "text": [
      "Object `easy` not found.\n"
     ]
    }
   ],
   "source": [
    "# return Viterbi path\n",
    "back tracing easy?"
   ]
  },
  {
   "cell_type": "code",
   "execution_count": 54,
   "metadata": {},
   "outputs": [
    {
     "data": {
      "text/plain": [
       "array([1, 2, 3])"
      ]
     },
     "execution_count": 54,
     "metadata": {},
     "output_type": "execute_result"
    }
   ],
   "source": [
    "np.arange(T)[1:]"
   ]
  },
  {
   "cell_type": "code",
   "execution_count": null,
   "metadata": {},
   "outputs": [],
   "source": []
  }
 ],
 "metadata": {
  "kernelspec": {
   "display_name": "Python 3",
   "language": "python",
   "name": "python3"
  },
  "language_info": {
   "codemirror_mode": {
    "name": "ipython",
    "version": 3
   },
   "file_extension": ".py",
   "mimetype": "text/x-python",
   "name": "python",
   "nbconvert_exporter": "python",
   "pygments_lexer": "ipython3",
   "version": "3.6.9"
  }
 },
 "nbformat": 4,
 "nbformat_minor": 4
}
