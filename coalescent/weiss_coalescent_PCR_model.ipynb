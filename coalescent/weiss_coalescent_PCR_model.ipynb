{
 "cells": [
  {
   "cell_type": "code",
   "execution_count": 1,
   "metadata": {},
   "outputs": [],
   "source": [
    "%matplotlib inline\n",
    "\n",
    "import numpy as np\n",
    "import matplotlib.pyplot as plt\n",
    "\n",
    "from collections import deque"
   ]
  },
  {
   "cell_type": "code",
   "execution_count": 2,
   "metadata": {},
   "outputs": [],
   "source": [
    "# Implementation of the WEISS 1997 PCR coalescent model\n",
    "# https://academic.oup.com/nar/article/25/15/3082/2902152/\n",
    "\n",
    "C = 20 # num PCR cycles\n",
    "p = 0.6 # PCR efficiency: change with time later\n",
    "family_size = 10\n",
    "\n",
    "s = np.zeros(C+1)\n",
    "s[0] = 1 # start with one molecule\n",
    "\n",
    "# forward sampling\n",
    "for i in np.arange(C):\n",
    "    s[i+1] = s[i] + np.random.binomial(s[i], p)"
   ]
  },
  {
   "cell_type": "code",
   "execution_count": 3,
   "metadata": {},
   "outputs": [],
   "source": [
    "class Node:\n",
    "    def __init__(self, cycle, index, leaf = False):\n",
    "        self.cycle = cycle\n",
    "        self.index = index\n",
    "        self.leaf = leaf\n",
    "        self.newly_synthesized = False\n",
    "        self.coalescent_as = []\n",
    "        self.children = []\n",
    "        self.parent = None\n",
    "        self.error_source_idx = None\n",
    "        self.error_source_cycle = None\n",
    "        self.error_type = \"\"\n",
    "\n",
    "        if leaf:\n",
    "            self.left = -1\n",
    "            self.right = -1\n",
    "        self.mutation = []\n",
    "    \n",
    "    def get_cycle(self):\n",
    "        return self.cycle\n",
    "    \n",
    "    def get_index(self):\n",
    "        return self.index\n",
    "    \n",
    "    def set_newly_synthesized(self):\n",
    "        self.newly_synthesized = True\n",
    "    \n",
    "    def set_parent(self, node):\n",
    "        self.parent = node\n",
    "    \n",
    "    def get_parent(self):\n",
    "        return self.parent\n",
    "    \n",
    "    def add_child(self, node):\n",
    "        self.children.append(node)\n",
    "        \n",
    "    def get_children(self):\n",
    "        return self.children\n",
    "    \n",
    "    def set_coalescent_as(self, role):\n",
    "        self.coalescent_as.append(role)\n",
    "    \n",
    "    def get_coalescent(self):\n",
    "        return self.coalescent_as\n",
    "\n",
    "    def set_error(self, source_cycle, source_idx, source=False):\n",
    "        if self.cycle == C:\n",
    "            self.error_source_idx = source_idx\n",
    "            self.error_source_cycle = source_cycle\n",
    "            self.error_type = \"source\" if source else \"inherited\"\n",
    "            return\n",
    "\n",
    "        else:   \n",
    "            if source:\n",
    "                assert source_cycle == self.cycle, \"source_cycle = \" + str(source_cycle) + \", cycle = \" + str(self.cycle)\n",
    "                assert source_idx == self.index, \"source_idx = \" + str(source_idx) + \", index = \" + str(self.index)\n",
    "                self.error_source_cycle = source_cycle\n",
    "                self.error_source_idx = source_idx\n",
    "                self.error_type = \"source\"\n",
    "                for child in self.get_children():\n",
    "                    child.set_error(source_cycle, source_idx)\n",
    "            else:\n",
    "                assert source_cycle < self.cycle, \"source_cycle = \" + str(source_cycle) + \", cycle = \" + str(self.cycle) \n",
    "                self.error_source_cycle = source_cycle\n",
    "                self.error_source_idx = source_idx\n",
    "                self.error_type = \"inherited\"\n",
    "                for child in self.get_children():\n",
    "                    child.set_error(source_cycle, source_idx)\n",
    "    \n",
    "    def print_error(self):\n",
    "        if self.error_type != \"\":\n",
    "            print(\"source cycle = \" + str(self.error_source_cycle) + \", source index = \" + str(self.error_source_idx) + \", type = \" + self.error_type)"
   ]
  },
  {
   "cell_type": "code",
   "execution_count": 16,
   "metadata": {
    "scrolled": true
   },
   "outputs": [],
   "source": [
    "# trace the genealogy of n duplicate reads\n",
    "n = np.zeros(C+1) # number of ancestors of observed reads at cycle i\n",
    "r = np.zeros(C+1) # number of newly synthesized ancestors of observed reads at cycle i\n",
    "l = np.zeros(C+1) # number of coalescent events at cycle i\n",
    "\n",
    "n[-1] = family_size\n",
    "tree = deque()\n",
    "tree.appendleft([ Node(cycle=C, index=j, leaf=True) for j in np.arange(family_size) ])\n",
    "\n",
    "for i in np.arange(C)[::-1] + 1:\n",
    "    # sample the number of newly synthesized molecules within the sampled population\n",
    "    r[i] = np.random.hypergeometric(s[i] - s[i-1], s[i-1], n[i]) # hypergeometric(good balls, bad balls, num draws)\n",
    "    if r[i] == 0:\n",
    "        # no newly synthesized moelcules among the sampled molecules, so no coalescent\n",
    "        l[i] = 0\n",
    "        n[i-1] = n[i]\n",
    "        \n",
    "        nodes_i_minus_1 = [ Node(cycle=i-1, index=j) for j in np.arange(n[i-1]) ]\n",
    "        tree.appendleft(nodes_i_minus_1)\n",
    "        continue\n",
    "    # sample the number of coalescents at cycle i\n",
    "    l[i] = np.random.hypergeometric(n[i]-r[i], s[i-1] - (n[i]-r[i]), r[i])\n",
    "    n[i-1] = n[i] - l[i]\n",
    "    \n",
    "    # pop nodes at cycle i and create them for the previous generation i-1\n",
    "    nodes_i = tree.popleft()\n",
    "    nodes_i_minus_1 = [ Node(cycle=i-1, index=j) for j in np.arange(n[i-1]) ]\n",
    "    \n",
    "    # assign newly synthesized molecules\n",
    "    newly_synthesized_indices = np.random.choice(np.arange(len(nodes_i)), replace=False, size=int(r[i]))\n",
    "    existing_molecule_indices = np.setdiff1d(np.arange(len(nodes_i)), newly_synthesized_indices)\n",
    "    \n",
    "    for idx in newly_synthesized_indices:\n",
    "        nodes_i[idx].set_newly_synthesized()\n",
    "\n",
    "    # choose a pairs of newly synthesized and exisiting molecules that originate from the same existing molecule\n",
    "    coalescing_exisiting_indices = np.random.choice(newly_synthesized_indices, replace=False, size=int(l[i]))\n",
    "    coalescing_newly_synthesized_indices = np.random.choice(existing_molecule_indices, replace=False, size=int(l[i]))\n",
    "       \n",
    "    # choose parents randomly from the i-1th generation\n",
    "    parents_of_coalescing_nodes_indices = np.random.choice(np.arange(n[i-1]), replace=False, size=int(l[i]))\n",
    "    \n",
    "    non_coalescing_node_indices_i = np.setdiff1d(np.arange(len(nodes_i)), np.union1d(coalescing_exisiting_indices, coalescing_newly_synthesized_indices))\n",
    "    non_coalescing_node_indices_i_minus_1 = np.setdiff1d(np.arange(len(nodes_i_minus_1)), parents_of_coalescing_nodes_indices)\n",
    "    assert len(non_coalescing_node_indices_i) == len(non_coalescing_node_indices_i_minus_1)\n",
    "    \n",
    "    for (parent_idx, new_idx, existing_idx) in zip(parents_of_coalescing_nodes_indices, coalescing_exisiting_indices,coalescing_newly_synthesized_indices):\n",
    "        nodes_i_minus_1[int(parent_idx)].add_child(nodes_i[int(new_idx)])\n",
    "        nodes_i_minus_1[int(parent_idx)].add_child(nodes_i[int(existing_idx)])\n",
    "\n",
    "        nodes_i_minus_1[int(parent_idx)].set_coalescent_as(\"parent\")\n",
    "        nodes_i[int(new_idx)].set_coalescent_as(\"child\")\n",
    "        nodes_i[int(existing_idx)].set_coalescent_as(\"child\")\n",
    "    \n",
    "    # randomly pair up the remaining nodes\n",
    "    for parent_idx, child_idx in zip(non_coalescing_node_indices_i_minus_1, non_coalescing_node_indices_i):\n",
    "        nodes_i_minus_1[int(parent_idx)].add_child(nodes_i[int(child_idx)])\n",
    "    \n",
    "    tree.appendleft(nodes_i)\n",
    "    tree.appendleft(nodes_i_minus_1)"
   ]
  },
  {
   "cell_type": "code",
   "execution_count": 17,
   "metadata": {},
   "outputs": [
    {
     "data": {
      "text/plain": [
       "[(6, 3), (8, 6), (14, 6), (16, 2)]"
      ]
     },
     "execution_count": 17,
     "metadata": {},
     "output_type": "execute_result"
    }
   ],
   "source": [
    "# add mutations\n",
    "u = 1e-2 # per generation PCR error rate, in the units of mutations per generation\n",
    "error_locs = []\n",
    "for cycle in np.arange(C):\n",
    "    num_edges = n[cycle+1]\n",
    "    errors = np.random.poisson(u, int(num_edges))\n",
    "    if np.sum(errors) > 0:\n",
    "        for err_node_idx in np.argwhere(errors).flatten():\n",
    "            list(tree)[cycle+1][err_node_idx].set_error(cycle+1, err_node_idx, True)\n",
    "            error_locs.append((cycle+1, err_node_idx))\n",
    "error_locs"
   ]
  },
  {
   "cell_type": "code",
   "execution_count": 18,
   "metadata": {},
   "outputs": [
    {
     "name": "stdout",
     "output_type": "stream",
     "text": [
      "cycle = 0\n",
      "num nodes = 1\n",
      "index = 0.0, num children = 0, coalescent = []\n",
      "cycle = 1\n",
      "num nodes = 1\n",
      "index = 0.0, num children = 0, coalescent = []\n",
      "cycle = 2\n",
      "num nodes = 1\n",
      "index = 0.0, num children = 2, coalescent = ['parent']\n",
      "cycle = 3\n",
      "num nodes = 2\n",
      "index = 0.0, num children = 2, coalescent = ['parent', 'child']\n",
      "index = 1.0, num children = 2, coalescent = ['parent', 'child']\n",
      "cycle = 4\n",
      "num nodes = 4\n",
      "index = 0.0, num children = 1, coalescent = ['child']\n",
      "index = 1.0, num children = 2, coalescent = ['parent', 'child']\n",
      "index = 2.0, num children = 2, coalescent = ['parent', 'child']\n",
      "index = 3.0, num children = 1, coalescent = ['child']\n",
      "cycle = 5\n",
      "num nodes = 6\n",
      "index = 0.0, num children = 1, coalescent = ['child']\n",
      "index = 1.0, num children = 1, coalescent = ['child']\n",
      "index = 2.0, num children = 1, coalescent = ['child']\n",
      "index = 3.0, num children = 1, coalescent = []\n",
      "index = 4.0, num children = 1, coalescent = ['child']\n",
      "index = 5.0, num children = 1, coalescent = []\n",
      "cycle = 6\n",
      "num nodes = 6\n",
      "index = 0.0, num children = 2, coalescent = ['parent']\n",
      "index = 1.0, num children = 1, coalescent = []\n",
      "index = 2.0, num children = 1, coalescent = []\n",
      "index = 3.0, num children = 1, coalescent = []\n",
      "source cycle = 6, source index = 3, type = source\n",
      "index = 4.0, num children = 1, coalescent = []\n",
      "index = 5.0, num children = 1, coalescent = []\n",
      "cycle = 7\n",
      "num nodes = 7\n",
      "index = 0.0, num children = 1, coalescent = []\n",
      "index = 1.0, num children = 1, coalescent = []\n",
      "index = 2.0, num children = 1, coalescent = []\n",
      "source cycle = 6, source index = 3, type = inherited\n",
      "index = 3.0, num children = 1, coalescent = []\n",
      "index = 4.0, num children = 1, coalescent = ['child']\n",
      "index = 5.0, num children = 1, coalescent = []\n",
      "index = 6.0, num children = 1, coalescent = ['child']\n",
      "cycle = 8\n",
      "num nodes = 7\n",
      "index = 0.0, num children = 1, coalescent = []\n",
      "index = 1.0, num children = 1, coalescent = []\n",
      "index = 2.0, num children = 1, coalescent = []\n",
      "source cycle = 6, source index = 3, type = inherited\n",
      "index = 3.0, num children = 2, coalescent = ['parent']\n",
      "index = 4.0, num children = 1, coalescent = []\n",
      "index = 5.0, num children = 1, coalescent = []\n",
      "index = 6.0, num children = 1, coalescent = []\n",
      "source cycle = 8, source index = 6, type = source\n",
      "cycle = 9\n",
      "num nodes = 8\n",
      "index = 0.0, num children = 1, coalescent = []\n",
      "index = 1.0, num children = 2, coalescent = ['parent']\n",
      "index = 2.0, num children = 1, coalescent = []\n",
      "source cycle = 6, source index = 3, type = inherited\n",
      "index = 3.0, num children = 1, coalescent = ['child']\n",
      "index = 4.0, num children = 1, coalescent = ['child']\n",
      "index = 5.0, num children = 1, coalescent = []\n",
      "index = 6.0, num children = 2, coalescent = ['parent']\n",
      "index = 7.0, num children = 1, coalescent = []\n",
      "source cycle = 8, source index = 6, type = inherited\n",
      "cycle = 10\n",
      "num nodes = 10\n",
      "index = 0.0, num children = 1, coalescent = ['child']\n",
      "index = 1.0, num children = 1, coalescent = ['child']\n",
      "index = 2.0, num children = 1, coalescent = []\n",
      "index = 3.0, num children = 1, coalescent = []\n",
      "source cycle = 6, source index = 3, type = inherited\n",
      "index = 4.0, num children = 1, coalescent = []\n",
      "index = 5.0, num children = 1, coalescent = []\n",
      "index = 6.0, num children = 1, coalescent = ['child']\n",
      "index = 7.0, num children = 1, coalescent = []\n",
      "index = 8.0, num children = 1, coalescent = ['child']\n",
      "index = 9.0, num children = 1, coalescent = []\n",
      "source cycle = 8, source index = 6, type = inherited\n",
      "cycle = 11\n",
      "num nodes = 10\n",
      "index = 0.0, num children = 1, coalescent = []\n",
      "index = 1.0, num children = 1, coalescent = []\n",
      "index = 2.0, num children = 1, coalescent = []\n",
      "index = 3.0, num children = 1, coalescent = []\n",
      "source cycle = 6, source index = 3, type = inherited\n",
      "index = 4.0, num children = 1, coalescent = []\n",
      "index = 5.0, num children = 1, coalescent = []\n",
      "index = 6.0, num children = 1, coalescent = []\n",
      "index = 7.0, num children = 1, coalescent = []\n",
      "index = 8.0, num children = 1, coalescent = []\n",
      "index = 9.0, num children = 1, coalescent = []\n",
      "source cycle = 8, source index = 6, type = inherited\n",
      "cycle = 12\n",
      "num nodes = 10\n",
      "index = 0.0, num children = 1, coalescent = []\n",
      "index = 1.0, num children = 1, coalescent = []\n",
      "index = 2.0, num children = 1, coalescent = []\n",
      "index = 3.0, num children = 1, coalescent = []\n",
      "source cycle = 6, source index = 3, type = inherited\n",
      "index = 4.0, num children = 1, coalescent = []\n",
      "index = 5.0, num children = 1, coalescent = []\n",
      "index = 6.0, num children = 1, coalescent = []\n",
      "index = 7.0, num children = 1, coalescent = []\n",
      "index = 8.0, num children = 1, coalescent = []\n",
      "index = 9.0, num children = 1, coalescent = []\n",
      "source cycle = 8, source index = 6, type = inherited\n",
      "cycle = 13\n",
      "num nodes = 10\n",
      "index = 0.0, num children = 1, coalescent = []\n",
      "index = 1.0, num children = 1, coalescent = []\n",
      "index = 2.0, num children = 1, coalescent = []\n",
      "index = 3.0, num children = 1, coalescent = []\n",
      "source cycle = 6, source index = 3, type = inherited\n",
      "index = 4.0, num children = 1, coalescent = []\n",
      "index = 5.0, num children = 1, coalescent = []\n",
      "index = 6.0, num children = 1, coalescent = []\n",
      "index = 7.0, num children = 1, coalescent = []\n",
      "index = 8.0, num children = 1, coalescent = []\n",
      "index = 9.0, num children = 1, coalescent = []\n",
      "source cycle = 8, source index = 6, type = inherited\n",
      "cycle = 14\n",
      "num nodes = 10\n",
      "index = 0.0, num children = 1, coalescent = []\n",
      "index = 1.0, num children = 1, coalescent = []\n",
      "index = 2.0, num children = 1, coalescent = []\n",
      "index = 3.0, num children = 1, coalescent = []\n",
      "source cycle = 6, source index = 3, type = inherited\n",
      "index = 4.0, num children = 1, coalescent = []\n",
      "index = 5.0, num children = 1, coalescent = []\n",
      "index = 6.0, num children = 1, coalescent = []\n",
      "source cycle = 14, source index = 6, type = source\n",
      "index = 7.0, num children = 1, coalescent = []\n",
      "index = 8.0, num children = 1, coalescent = []\n",
      "index = 9.0, num children = 1, coalescent = []\n",
      "source cycle = 8, source index = 6, type = inherited\n",
      "cycle = 15\n",
      "num nodes = 10\n",
      "index = 0.0, num children = 1, coalescent = []\n",
      "index = 1.0, num children = 1, coalescent = []\n",
      "index = 2.0, num children = 1, coalescent = []\n",
      "index = 3.0, num children = 1, coalescent = []\n",
      "source cycle = 6, source index = 3, type = inherited\n",
      "index = 4.0, num children = 1, coalescent = []\n",
      "index = 5.0, num children = 1, coalescent = []\n",
      "index = 6.0, num children = 1, coalescent = []\n",
      "source cycle = 14, source index = 6, type = inherited\n",
      "index = 7.0, num children = 1, coalescent = []\n",
      "index = 8.0, num children = 1, coalescent = []\n",
      "index = 9.0, num children = 1, coalescent = []\n",
      "source cycle = 8, source index = 6, type = inherited\n",
      "cycle = 16\n",
      "num nodes = 10\n",
      "index = 0.0, num children = 1, coalescent = []\n",
      "index = 1.0, num children = 1, coalescent = []\n",
      "index = 2.0, num children = 1, coalescent = []\n",
      "source cycle = 16, source index = 2, type = source\n",
      "index = 3.0, num children = 1, coalescent = []\n",
      "source cycle = 6, source index = 3, type = inherited\n",
      "index = 4.0, num children = 1, coalescent = []\n",
      "index = 5.0, num children = 1, coalescent = []\n",
      "index = 6.0, num children = 1, coalescent = []\n",
      "source cycle = 14, source index = 6, type = inherited\n",
      "index = 7.0, num children = 1, coalescent = []\n",
      "index = 8.0, num children = 1, coalescent = []\n",
      "index = 9.0, num children = 1, coalescent = []\n",
      "source cycle = 8, source index = 6, type = inherited\n",
      "cycle = 17\n",
      "num nodes = 10\n",
      "index = 0.0, num children = 1, coalescent = []\n",
      "index = 1.0, num children = 1, coalescent = []\n",
      "index = 2.0, num children = 1, coalescent = []\n",
      "source cycle = 16, source index = 2, type = inherited\n",
      "index = 3.0, num children = 1, coalescent = []\n",
      "source cycle = 6, source index = 3, type = inherited\n",
      "index = 4.0, num children = 1, coalescent = []\n",
      "index = 5.0, num children = 1, coalescent = []\n",
      "index = 6.0, num children = 1, coalescent = []\n",
      "source cycle = 14, source index = 6, type = inherited\n",
      "index = 7.0, num children = 1, coalescent = []\n",
      "index = 8.0, num children = 1, coalescent = []\n",
      "index = 9.0, num children = 1, coalescent = []\n",
      "source cycle = 8, source index = 6, type = inherited\n",
      "cycle = 18\n",
      "num nodes = 10\n",
      "index = 0.0, num children = 1, coalescent = []\n",
      "index = 1.0, num children = 1, coalescent = []\n",
      "index = 2.0, num children = 1, coalescent = []\n",
      "source cycle = 16, source index = 2, type = inherited\n",
      "index = 3.0, num children = 1, coalescent = []\n",
      "source cycle = 6, source index = 3, type = inherited\n",
      "index = 4.0, num children = 1, coalescent = []\n",
      "index = 5.0, num children = 1, coalescent = []\n",
      "index = 6.0, num children = 1, coalescent = []\n",
      "source cycle = 14, source index = 6, type = inherited\n",
      "index = 7.0, num children = 1, coalescent = []\n",
      "index = 8.0, num children = 1, coalescent = []\n",
      "index = 9.0, num children = 1, coalescent = []\n",
      "source cycle = 8, source index = 6, type = inherited\n",
      "cycle = 19\n",
      "num nodes = 10\n",
      "index = 0.0, num children = 1, coalescent = []\n",
      "index = 1.0, num children = 1, coalescent = []\n",
      "index = 2.0, num children = 1, coalescent = []\n",
      "source cycle = 16, source index = 2, type = inherited\n",
      "index = 3.0, num children = 1, coalescent = []\n",
      "source cycle = 6, source index = 3, type = inherited\n",
      "index = 4.0, num children = 1, coalescent = []\n",
      "index = 5.0, num children = 1, coalescent = []\n",
      "index = 6.0, num children = 1, coalescent = []\n",
      "source cycle = 14, source index = 6, type = inherited\n",
      "index = 7.0, num children = 1, coalescent = []\n",
      "index = 8.0, num children = 1, coalescent = []\n",
      "index = 9.0, num children = 1, coalescent = []\n",
      "source cycle = 8, source index = 6, type = inherited\n",
      "cycle = 20\n",
      "num nodes = 10\n",
      "index = 0, num children = 0, coalescent = []\n",
      "index = 1, num children = 0, coalescent = []\n",
      "index = 2, num children = 0, coalescent = []\n",
      "source cycle = 16, source index = 2, type = inherited\n",
      "index = 3, num children = 0, coalescent = []\n",
      "source cycle = 6, source index = 3, type = inherited\n",
      "index = 4, num children = 0, coalescent = []\n",
      "index = 5, num children = 0, coalescent = []\n",
      "index = 6, num children = 0, coalescent = []\n",
      "source cycle = 14, source index = 6, type = inherited\n",
      "index = 7, num children = 0, coalescent = []\n",
      "index = 8, num children = 0, coalescent = []\n",
      "index = 9, num children = 0, coalescent = []\n",
      "source cycle = 8, source index = 6, type = inherited\n"
     ]
    }
   ],
   "source": [
    "for i, nodes in enumerate(tree):\n",
    "    print(\"cycle = \" + str(i))\n",
    "    print(\"num nodes = \" + str(len(nodes)))\n",
    "    for node in nodes:\n",
    "        print(\"index = \" + str(node.index) + \", num children = \" + str(len(node.get_children())) + \", coalescent = \" + str(node.get_coalescent()))\n",
    "        node.print_error()"
   ]
  },
  {
   "cell_type": "code",
   "execution_count": 62,
   "metadata": {},
   "outputs": [
    {
     "data": {
      "text/plain": [
       "'0'"
      ]
     },
     "execution_count": 62,
     "metadata": {},
     "output_type": "execute_result"
    }
   ],
   "source": [
    "str(len(node.get_children()))"
   ]
  },
  {
   "cell_type": "code",
   "execution_count": 19,
   "metadata": {},
   "outputs": [
    {
     "data": {
      "text/plain": [
       "[(3, 5, 7), (4, 6, 8)]"
      ]
     },
     "execution_count": 19,
     "metadata": {},
     "output_type": "execute_result"
    }
   ],
   "source": [
    "zip([3,4],[5,6],[7,8])"
   ]
  },
  {
   "cell_type": "code",
   "execution_count": 8,
   "metadata": {},
   "outputs": [
    {
     "ename": "NameError",
     "evalue": "name 'trees' is not defined",
     "output_type": "error",
     "traceback": [
      "\u001b[0;31m---------------------------------------------------------------------------\u001b[0m",
      "\u001b[0;31mNameError\u001b[0m                                 Traceback (most recent call last)",
      "\u001b[0;32m<ipython-input-8-b1846e3dc60b>\u001b[0m in \u001b[0;36m<module>\u001b[0;34m()\u001b[0m\n\u001b[0;32m----> 1\u001b[0;31m \u001b[0mtrees\u001b[0m\u001b[0;34m.\u001b[0m\u001b[0mappendleft\u001b[0m\u001b[0;34m(\u001b[0m\u001b[0mNode\u001b[0m\u001b[0;34m(\u001b[0m\u001b[0mcycle\u001b[0m\u001b[0;34m=\u001b[0m\u001b[0mC\u001b[0m\u001b[0;34m,\u001b[0m \u001b[0mindex\u001b[0m\u001b[0;34m=\u001b[0m\u001b[0mj\u001b[0m\u001b[0;34m,\u001b[0m \u001b[0mleaf\u001b[0m\u001b[0;34m=\u001b[0m\u001b[0mFalse\u001b[0m\u001b[0;34m)\u001b[0m \u001b[0;32mfor\u001b[0m \u001b[0mj\u001b[0m \u001b[0;32min\u001b[0m \u001b[0mnp\u001b[0m\u001b[0;34m.\u001b[0m\u001b[0marange\u001b[0m\u001b[0;34m(\u001b[0m\u001b[0mfamily_size\u001b[0m\u001b[0;34m)\u001b[0m\u001b[0;34m)\u001b[0m\u001b[0;34m\u001b[0m\u001b[0m\n\u001b[0m",
      "\u001b[0;31mNameError\u001b[0m: name 'trees' is not defined"
     ]
    }
   ],
   "source": [
    "trees.appendleft(Node(cycle=C, index=j, leaf=False) for j in np.arange(family_size))"
   ]
  },
  {
   "cell_type": "code",
   "execution_count": 9,
   "metadata": {},
   "outputs": [
    {
     "data": {
      "text/plain": [
       "deque([5, 3])"
      ]
     },
     "execution_count": 9,
     "metadata": {},
     "output_type": "execute_result"
    }
   ],
   "source": [
    "a = deque()\n",
    "a.appendleft(3)\n",
    "a.appendleft(5)\n",
    "a"
   ]
  },
  {
   "cell_type": "code",
   "execution_count": 10,
   "metadata": {},
   "outputs": [
    {
     "data": {
      "text/plain": [
       "5"
      ]
     },
     "execution_count": 10,
     "metadata": {},
     "output_type": "execute_result"
    }
   ],
   "source": [
    "a.popleft()"
   ]
  },
  {
   "cell_type": "code",
   "execution_count": 11,
   "metadata": {},
   "outputs": [],
   "source": [
    "d = deque()\n",
    "d.append(3)\n",
    "d.appendleft(13)\n",
    "d.append(140)\n"
   ]
  },
  {
   "cell_type": "code",
   "execution_count": null,
   "metadata": {
    "collapsed": true,
    "jupyter": {
     "outputs_hidden": true
    }
   },
   "outputs": [],
   "source": []
  },
  {
   "cell_type": "code",
   "execution_count": 63,
   "metadata": {},
   "outputs": [
    {
     "data": {
      "text/plain": [
       "[(9, 1), (13, 1)]"
      ]
     },
     "execution_count": 63,
     "metadata": {},
     "output_type": "execute_result"
    }
   ],
   "source": []
  },
  {
   "cell_type": "code",
   "execution_count": 59,
   "metadata": {},
   "outputs": [
    {
     "data": {
      "text/plain": [
       "1.0"
      ]
     },
     "execution_count": 59,
     "metadata": {},
     "output_type": "execute_result"
    }
   ],
   "source": [
    "# np.random.poisson(u, num_edges)\n",
    "\n",
    "START HERE GET RESULTS (QUAL) and also be smarter about where in the tree mutaions occur. i.e. keep track of them."
   ]
  },
  {
   "cell_type": "code",
   "execution_count": null,
   "metadata": {
    "collapsed": true,
    "jupyter": {
     "outputs_hidden": true
    }
   },
   "outputs": [],
   "source": []
  }
 ],
 "metadata": {
  "kernelspec": {
   "display_name": "Python 3",
   "language": "python",
   "name": "python3"
  },
  "language_info": {
   "codemirror_mode": {
    "name": "ipython",
    "version": 3
   },
   "file_extension": ".py",
   "mimetype": "text/x-python",
   "name": "python",
   "nbconvert_exporter": "python",
   "pygments_lexer": "ipython3",
   "version": "3.6.9"
  }
 },
 "nbformat": 4,
 "nbformat_minor": 4
}
