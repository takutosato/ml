{
 "cells": [
  {
   "cell_type": "code",
   "execution_count": 1,
   "metadata": {},
   "outputs": [],
   "source": [
    "%matplotlib inline\n",
    "\n",
    "import numpy as np\n",
    "import matplotlib.pyplot as plt\n",
    "\n",
    "from collections import deque"
   ]
  },
  {
   "cell_type": "code",
   "execution_count": 176,
   "metadata": {},
   "outputs": [],
   "source": [
    "# Implementation of the WEISS 1997 PCR coalescent model\n",
    "# https://academic.oup.com/nar/article/25/15/3082/2902152/\n",
    "\n",
    "C = 20 # num PCR cycles\n",
    "p = 0.6 # PCR efficiency: change with time later\n",
    "family_size = 10\n",
    "num_simulations = 500\n",
    "\n",
    "max_error = 20\n",
    "error_distribution = np.zeros(max_error)\n",
    "\n",
    "for i in np.arange(num_simulations):\n",
    "    s = forward_sample_tree(C, p)\n",
    "    tree, n, l, r = coalescent_process(C)\n",
    "    tree, num_errors, error_locs, error_dict = add_mutations(tree, n, pcr_error_rate=1e-3)\n",
    "    PCR_error_counts, error_counts_per_reads = count_errors(tree, num_errors)\n",
    "    \n",
    "    # assuming errors only occur once per molecule, len will suffice\n",
    "    # print(PCR_error_counts)\n",
    "    error_distribution[sum(PCR_error_counts.values())] += 1"
   ]
  },
  {
   "cell_type": "code",
   "execution_count": 178,
   "metadata": {},
   "outputs": [
    {
     "name": "stdout",
     "output_type": "stream",
     "text": [
      "[437.  52.   7.   2.   1.   1.   0.   0.   0.   0.   0.   0.   0.   0.\n",
      "   0.   0.   0.   0.   0.   0.]\n",
      "[0.874 0.104 0.014 0.004 0.002 0.002 0.    0.    0.    0.    0.    0.\n",
      " 0.    0.    0.    0.    0.    0.    0.    0.   ]\n"
     ]
    },
    {
     "data": {
      "text/plain": [
       "[<matplotlib.lines.Line2D at 0x11c0579e8>]"
      ]
     },
     "execution_count": 178,
     "metadata": {},
     "output_type": "execute_result"
    },
    {
     "data": {
      "image/png": "[encoded data removed]",
      "text/plain": [
       "<Figure size 432x288 with 1 Axes>"
      ]
     },
     "metadata": {
      "needs_background": "light"
     },
     "output_type": "display_data"
    }
   ],
   "source": [
    "print(error_distribution)\n",
    "print(error_distribution / num_simulations)\n",
    "plt.plot(np.arange(max_error), error_distribution / num_simulations, 'ro')"
   ]
  },
  {
   "cell_type": "code",
   "execution_count": 153,
   "metadata": {},
   "outputs": [
    {
     "data": {
      "text/plain": [
       "2"
      ]
     },
     "execution_count": 153,
     "metadata": {},
     "output_type": "execute_result"
    }
   ],
   "source": [
    "sum(PCR_error_counts.values())"
   ]
  },
  {
   "cell_type": "code",
   "execution_count": 179,
   "metadata": {},
   "outputs": [],
   "source": [
    "def forward_sample_tree(num_pcr_cycles, pcr_efficiency):\n",
    "    s = np.zeros(num_pcr_cycles+1)\n",
    "    s[0] = 1 # start with one molecule\n",
    "    for i in np.arange(num_pcr_cycles):\n",
    "        s[i+1] = s[i] + np.random.binomial(s[i], pcr_efficiency)\n",
    "    return s"
   ]
  },
  {
   "cell_type": "code",
   "execution_count": 82,
   "metadata": {},
   "outputs": [],
   "source": [
    "class Node:\n",
    "    def __init__(self, cycle, index, leaf = False):\n",
    "        self.cycle = cycle\n",
    "        self.index = index\n",
    "        self.leaf = leaf\n",
    "        self.newly_synthesized = False\n",
    "        self.coalescent_as = []\n",
    "        self.children = []\n",
    "        self.parent = None\n",
    "        # error is a triple (source_cycle, source_idx, type)\n",
    "        self.errors = []\n",
    "\n",
    "        if leaf:\n",
    "            self.left = -1\n",
    "            self.right = -1\n",
    "        self.mutation = []\n",
    "    \n",
    "    def get_cycle(self):\n",
    "        return self.cycle\n",
    "\n",
    "    def get_errors(self):\n",
    "        return self.errors\n",
    "    \n",
    "    def get_error_cycle(self, err_num):\n",
    "        assert err_num < len(self.errors)\n",
    "        return self.errors[err_num][0]\n",
    "    \n",
    "    def get_error_idx(self, err_num):\n",
    "        assert err_num < len(self.errors)\n",
    "        return self.errors[err_num][1]\n",
    "    \n",
    "    def get_error_type(self, err_num):\n",
    "        assert err_num < len(self.errors)\n",
    "        return self.errors[err_num][2]\n",
    "    \n",
    "    def get_index(self):\n",
    "        return self.index\n",
    "    \n",
    "    def set_newly_synthesized(self):\n",
    "        self.newly_synthesized = True\n",
    "    \n",
    "    def set_parent(self, node):\n",
    "        self.parent = node\n",
    "    \n",
    "    def get_parent(self):\n",
    "        return self.parent\n",
    "    \n",
    "    def add_child(self, node):\n",
    "        self.children.append(node)\n",
    "        \n",
    "    def get_children(self):\n",
    "        return self.children\n",
    "    \n",
    "    def set_coalescent_as(self, role):\n",
    "        self.coalescent_as.append(role)\n",
    "    \n",
    "    def get_coalescent(self):\n",
    "        return self.coalescent_as\n",
    "\n",
    "    def set_error(self, source_cycle, source_idx, source=False):\n",
    "        if self.cycle == C:\n",
    "            self.errors.append((source_cycle, source_idx, \"source\" if source else \"inherited\"))\n",
    "            return\n",
    "\n",
    "        else:   \n",
    "            if source:\n",
    "                assert source_cycle == self.get_cycle(), \"source_cycle = \" + str(source_cycle) + \", cycle = \" + str(self.get_cycle())\n",
    "                assert source_idx == self.get_index(), \"source_idx = \" + str(source_idx) + \", index = \" + str(self.get_index())\n",
    "                self.errors.append((source_cycle, source_idx, \"source\"))\n",
    "                for child in self.get_children():\n",
    "                    child.set_error(source_cycle, source_idx)\n",
    "            else:\n",
    "                assert source_cycle < self.get_cycle(), \"source_cycle = \" + str(source_cycle) + \", cycle = \" + str(self.get_cycle()) \n",
    "                self.errors.append((source_cycle, source_idx, \"inherited\"))\n",
    "                for child in self.get_children():\n",
    "                    child.set_error(source_cycle, source_idx)\n",
    "    \n",
    "    # Eventually want an error class or at least type synonyms\n",
    "    \n",
    "    def print_error(self):\n",
    "        for error in self.errors:\n",
    "            print(\"source cycle = \" + str(error[0]) + \", source index = \" + str(error[1]) + \", type = \" + str(error[2]))"
   ]
  },
  {
   "cell_type": "code",
   "execution_count": 162,
   "metadata": {
    "scrolled": true
   },
   "outputs": [],
   "source": [
    "### COALESCENT PROCESS ###\n",
    "def coalescent_process(C):\n",
    "    # trace the genealogy of n duplicate reads\n",
    "    n = np.zeros(C+1) # number of ancestors of observed reads at cycle i\n",
    "    r = np.zeros(C+1) # number of newly synthesized ancestors of observed reads at cycle i\n",
    "    l = np.zeros(C+1) # number of coalescent events at cycle i\n",
    "    \n",
    "    n[-1] = family_size\n",
    "    tree = deque()\n",
    "    tree.appendleft([ Node(cycle=C, index=j, leaf=True) for j in np.arange(family_size) ])\n",
    "\n",
    "    for i in np.arange(C)[::-1] + 1:\n",
    "        # sample the number of newly synthesized molecules within the sampled population\n",
    "        r[i] = np.random.hypergeometric(s[i] - s[i-1], s[i-1], n[i]) # hypergeometric(good balls, bad balls, num draws)\n",
    "        if r[i] == 0:\n",
    "            # print(\"No new molecules sampled at cycle\" + str(i))\n",
    "            # no newly synthesized moelcules among the sampled molecules, so no coalescent\n",
    "            l[i] = 0\n",
    "            n[i-1] = n[i]\n",
    "\n",
    "            nodes_i = tree.popleft()\n",
    "            nodes_i_minus_1 = [ Node(cycle=i-1, index=j) for j in np.arange(n[i-1]) ]\n",
    "\n",
    "            for idx in np.arange(n[i-1], dtype=int):\n",
    "                nodes_i_minus_1[idx].add_child(nodes_i[idx])\n",
    "\n",
    "            tree.appendleft(nodes_i)\n",
    "            tree.appendleft(nodes_i_minus_1)\n",
    "            continue\n",
    "        # sample the number of coalescents at cycle i\n",
    "        l[i] = np.random.hypergeometric(n[i]-r[i], s[i-1] - (n[i]-r[i]), r[i])\n",
    "        n[i-1] = n[i] - l[i]\n",
    "\n",
    "        # pop nodes at cycle i and create them for the previous generation i-1\n",
    "        nodes_i = tree.popleft()\n",
    "        nodes_i_minus_1 = [ Node(cycle=i-1, index=j) for j in np.arange(n[i-1]) ]\n",
    "\n",
    "        # assign newly synthesized molecules\n",
    "        newly_synthesized_indices = np.random.choice(np.arange(len(nodes_i)), replace=False, size=int(r[i]))\n",
    "        existing_molecule_indices = np.setdiff1d(np.arange(len(nodes_i)), newly_synthesized_indices)\n",
    "\n",
    "        for idx in newly_synthesized_indices:\n",
    "            nodes_i[idx].set_newly_synthesized()\n",
    "\n",
    "        # choose a pairs of newly synthesized and exisiting molecules that originate from the same existing molecule\n",
    "        coalescing_exisiting_indices = np.random.choice(newly_synthesized_indices, replace=False, size=int(l[i]))\n",
    "        coalescing_newly_synthesized_indices = np.random.choice(existing_molecule_indices, replace=False, size=int(l[i]))\n",
    "\n",
    "        # choose parents randomly from the i-1th generation\n",
    "        parents_of_coalescing_nodes_indices = np.random.choice(np.arange(n[i-1]), replace=False, size=int(l[i]))\n",
    "\n",
    "        non_coalescing_node_indices_i = np.setdiff1d(np.arange(len(nodes_i)), np.union1d(coalescing_exisiting_indices, coalescing_newly_synthesized_indices))\n",
    "        non_coalescing_node_indices_i_minus_1 = np.setdiff1d(np.arange(len(nodes_i_minus_1)), parents_of_coalescing_nodes_indices)\n",
    "        assert len(non_coalescing_node_indices_i) == len(non_coalescing_node_indices_i_minus_1)\n",
    "\n",
    "        for (parent_idx, new_idx, existing_idx) in zip(parents_of_coalescing_nodes_indices, coalescing_exisiting_indices,coalescing_newly_synthesized_indices):\n",
    "            nodes_i_minus_1[int(parent_idx)].add_child(nodes_i[int(new_idx)])\n",
    "            nodes_i_minus_1[int(parent_idx)].add_child(nodes_i[int(existing_idx)])\n",
    "\n",
    "            nodes_i_minus_1[int(parent_idx)].set_coalescent_as(\"parent\")\n",
    "            nodes_i[int(new_idx)].set_coalescent_as(\"child\")\n",
    "            nodes_i[int(existing_idx)].set_coalescent_as(\"child\")\n",
    "\n",
    "        # randomly pair up the remaining nodes\n",
    "        for parent_idx, child_idx in zip(non_coalescing_node_indices_i_minus_1, non_coalescing_node_indices_i):\n",
    "            nodes_i_minus_1[int(parent_idx)].add_child(nodes_i[int(child_idx)])\n",
    "\n",
    "        tree.appendleft(nodes_i)\n",
    "        tree.appendleft(nodes_i_minus_1)\n",
    "    return tree, n, l, r"
   ]
  },
  {
   "cell_type": "code",
   "execution_count": 111,
   "metadata": {},
   "outputs": [],
   "source": [
    "### Helper Methods ###\n",
    "def remove_errors():\n",
    "    for nodes in tree:\n",
    "        for node in nodes:\n",
    "            node.errors = []\n",
    "            \n",
    "def print_tree():\n",
    "    for i, nodes in enumerate(tree):\n",
    "        print(\"cycle = \" + str(i))\n",
    "        print(\"num nodes = \" + str(len(nodes)))\n",
    "        for node in nodes:\n",
    "            print(\"index = \" + str(node.index) + \", children = \" + str([(c.get_cycle(), c.get_index()) for c in node.get_children()]) + \", coalescent = \" + str(node.get_coalescent()))\n",
    "            node.print_error()"
   ]
  },
  {
   "cell_type": "code",
   "execution_count": 165,
   "metadata": {},
   "outputs": [],
   "source": [
    "def add_mutations(tree, n, pcr_error_rate=1e-2):\n",
    "    u = pcr_error_rate # per generation PCR error rate, in the units of mutations per generation\n",
    "    error_locs = []\n",
    "    error_dict = {}\n",
    "    num_errors = 0\n",
    "    for cycle in np.arange(C):\n",
    "        num_edges = n[cycle+1]\n",
    "        errors = np.random.poisson(u, int(num_edges))\n",
    "        error_dict[cycle+1] = errors\n",
    "        if np.sum(errors) > 0:\n",
    "            num_errors += np.count_nonzero(errors)\n",
    "            for err_node_idx in np.argwhere(errors).flatten():\n",
    "                list(tree)[cycle+1][err_node_idx].set_error(cycle+1, err_node_idx, True)\n",
    "                error_locs.append((cycle+1, err_node_idx))\n",
    "    assert num_errors == len(error_locs)\n",
    "    return tree, num_errors, error_locs, error_dict"
   ]
  },
  {
   "cell_type": "code",
   "execution_count": 140,
   "metadata": {},
   "outputs": [],
   "source": [
    "def count_errors(tree, num_errors): \n",
    "    reads = list(tree)[-1]\n",
    "\n",
    "    PCR_error_counts = {}\n",
    "    for read in reads:\n",
    "        errors = read.get_errors()\n",
    "        if len(errors) == 0:\n",
    "            continue\n",
    "        for error in errors:\n",
    "            if error in PCR_error_counts:\n",
    "                PCR_error_counts[error] += 1\n",
    "            else:\n",
    "                PCR_error_counts[error] = 1\n",
    "\n",
    "    # counts must be less than 10...\n",
    "    assert len(PCR_error_counts) == num_errors\n",
    "    error_counts_per_reads = [ len(r.get_errors()) for r in reads ]\n",
    "    return PCR_error_counts, error_counts_per_reads"
   ]
  },
  {
   "cell_type": "code",
   "execution_count": null,
   "metadata": {},
   "outputs": [],
   "source": []
  }
 ],
 "metadata": {
  "kernelspec": {
   "display_name": "Python 3",
   "language": "python",
   "name": "python3"
  },
  "language_info": {
   "codemirror_mode": {
    "name": "ipython",
    "version": 3
   },
   "file_extension": ".py",
   "mimetype": "text/x-python",
   "name": "python",
   "nbconvert_exporter": "python",
   "pygments_lexer": "ipython3",
   "version": "3.6.9"
  }
 },
 "nbformat": 4,
 "nbformat_minor": 4
}
