{
 "cells": [
  {
   "cell_type": "code",
   "execution_count": 1,
   "metadata": {},
   "outputs": [],
   "source": [
    "%matplotlib inline\n",
    "\n",
    "import numpy as np\n",
    "import matplotlib.pyplot as plt\n",
    "from scipy.stats import norm"
   ]
  },
  {
   "cell_type": "markdown",
   "metadata": {},
   "source": [
    "Toy example:\n",
    "\n",
    "Suppose that we have the following model\n",
    "\n",
    "$z_n \\sim Categorical(\\pi)$\n",
    "\n",
    "$x_n | z_n = k \\sim N(\\mu_k, \\sigma_k)$\n",
    "\n",
    "$y_n | z_n = k \\sim Bernoulli(p_k)$\n",
    "\n",
    "and suppose that we have learned the model parameters $\\Theta = \\{ \\pi, \\mu_k, \\sigma_k, p_k \\}$.\n",
    "\n",
    "Having learned the parameters, given a test sample $x^*$ without the corresponding label $y^*$, we must make a decision---a hard assignment---of what $y^*$ might be. Associated with the decision is a cost, encoded as a loss function $L(\\hat{y}, y)$, where $\\hat{y}$ is the guess and $y$ the truth. For example, we might have:\n",
    "\n",
    "$$L(\\hat{y}, y)  = \n",
    "\\begin{cases}\n",
    "100 & \\text{if } \\hat{y} = 1, y = 0 \\\\\n",
    "10  & \\text{if } \\hat{y} = 0, y = 1 \\\\\n",
    "0   & \\text{if } \\hat{y} = y \n",
    "\\end{cases}$$\n",
    "\n",
    "In other words, there is a greater penalty to incorrectly guessting that $y = 0$. As a mnemonic guide, call $y = 0$ \"green\" and $y = 1$ \"red\". There is a higher penalty for guessing the light is green when it really is red. For general loss values, we denote $L_{10} = L_{RG}$ is the loss of guessing red when the truth is green, and $L_{01} = L_{GR}$ is defined similarly.\n",
    "\n",
    "#### Baseline (the plugin estimator)\n",
    "Given $x^*$, we may compute the posterior probability $p(y^*|x^*)$ as\n",
    "\n",
    "$$\\begin{align*}\n",
    "p(y^*|x^*) &\\propto \\sum_{z^*} p(z^*|\\pi) p(x^*|z^*) p(y^*|z^*) \\\\\n",
    "&= p(z^* = 0|\\pi) p(x^*|z^* = 0) p(y^*|z^* = 0 ) + p(z^* = 1|\\pi) p(x^*|z^* = 1) p(y^*|z^* = 1) \\\\\n",
    "&= \\pi_0 N(x^* | \\mu_0, \\sigma_0) Bernoulli(y^*|p_0) + \\pi_1 N(x^* | \\mu_1, \\sigma_1) Bernoulli(y^*|p_1)\n",
    "\\end{align*}$$\n",
    "\n",
    "And we will choose as our decision $\\hat{y}$ whichever value of $y$ has the higher posterior probability. That is,\n",
    "\n",
    "$$\\hat{y} = \\text{argmax}_{y^*} \\; p(y^*|x^*) $$\n",
    "\n",
    "#### The decision aware way \n",
    "Rather than the above decision, we may choose whichever value of $y$ that minimizes the expected loss, or, equivalently, maximizes the expected utility $U(y,y^*)$ with respect to the posterior $p(y^*|x^*)$. In the discussion below, we will frame the problem as maximization with respect to the utility \n",
    "\n",
    "$$\n",
    "\\begin{align*}\n",
    "\\hat{y} &= \\text{argmax}_{y} \\; \\sum_{y*} U(y, y^*) p(y^*|x^*) \\\\\n",
    "&= \\text{argmax}_{y} \\; [ U(y, R) p(R|x^*) + U(y, G) p(G|x^*) ]\n",
    "\\end{align*}\n",
    "$$ \n",
    "\n",
    "where $p(R|x^*)$ means $p(y^* = R|x^*)$. We simply plug in for $y \\in \\{ G, R \\}$ and compare the expected costs of the decisions, using the general loss values:\n",
    "\n",
    "Decision $y = G$: \n",
    "\n",
    "$$\n",
    "\\begin{align*}\n",
    "U(y=G, R) p(R|x^*) + U(y=G, G) p(G|x^*) &= -L_{GR} * p(R|x^*) - L_{GG} * p(G|x^*)\n",
    "\\end{align*}\n",
    "$$\n",
    "\n",
    "where $p_0$ is the Bernoulli parameter of the $z=0$ component and thus the probability of $y = 1$ or $y = Red$ given $z=0$.\n",
    "\n",
    "Similarly the expected cost of the decision $y = R$ is\n",
    "\n",
    "$$\n",
    "\\begin{align*}\n",
    "U(y=R, R) p(R|x^*) + U(y=R, G) p(G|x^*) &= -L_{RR} * p(R|x^*) + -L_{RG} * p(G|x^*)\n",
    "\\end{align*}\n",
    "$$\n",
    "\n",
    "Setting the expected costs of the decisions equals to each other gives us the decision bound as a function of $x^*$; we choose $\\hat{y} = G$ if\n",
    "\n",
    "$$\n",
    "\\frac{p(G|x^*)}{p(R|x^*)} \\geq \\frac{U_{RR} - U_{GR}}{U_{GG} - U_{RG}}\n",
    "$$\n",
    "\n",
    "For this thereshold to be meaningful (i.e. the decision depends on the probability $p(y^*|x^*)$), we might require that $U_{RR} > U_{GR}$ and $U_{GG} > U_{RG}$, such that the threshold $\\frac{U_{RR} - U_{GR}}{U_{GG} - U_{RG}} > 0$. Any sensible utility function should satisfy this criterion, however, as it merely states that the utility of guessing correctly is greater than that of getting it wrong.\n",
    "\n",
    "The optimal decision $h$ is then \n",
    "\n",
    "$$\n",
    "h(x^*) =\n",
    "\\begin{cases}\n",
    "G & \\text{if } D(x^*) \\geq T \\\\\n",
    "R & \\text{otherwise}\n",
    "\\end{cases}\n",
    "$$\n",
    "\n",
    "where $D(x^*) = \\frac{p(G|x^*)}{p(R|x^*)}$ and $T = \\frac{U_{RR} - U_{GR}}{U_{GG} - U_{RG}}$. $T$ is a threshold determined soley by the utility function, and $D(x^*)$ is the probabilistic quantity that depends on the observed test data $x^*$."
   ]
  },
  {
   "cell_type": "markdown",
   "metadata": {},
   "source": [
    "Let's interpret this result. The threshold $T$ captures the ratio of releative distance between potential actions given the true state.\n",
    "\n",
    "For example, we might set $U_{RR} = U_{GG} = 101$---we're happy to when we make the correction decision. $U_{RG} = 51$ seems reasonable, as stopping at the light when it's green isn't ideal but we're safe. $U_{GR} = 1$ is reasonable for the risky behavior of running a red light. The threshold then equals $T = 2$---we require that the probability of the green light is twice more likely than the probability of a red light."
   ]
  },
  {
   "cell_type": "markdown",
   "metadata": {},
   "source": [
    "#### Example\n",
    "\n",
    "Suppose that if $z = 0$, the probability of red $p_0 = 0.75$, and the corresponding probability of red for $z = 1$ is $p_1 = 0.5$. In other words, if $z = 0$, we are fairly confident that the light is red, whereas we have no information if $z = 1$."
   ]
  },
  {
   "cell_type": "code",
   "execution_count": 2,
   "metadata": {},
   "outputs": [],
   "source": [
    "# Generate Data (see 3.2 Toy Example: Why Asymmetry Matters in https://arxiv.org/pdf/1707.07341.pdf )\n",
    "# negative label = 0, positive label = 1\n",
    "\n",
    "# \"interval A contains 175 data points x \\in [−1, 1], with a roughly even distribution of positive and negative labels\"\n",
    "x_A = np.random.uniform(-1, 1, 175)\n",
    "y_A = np.random.binomial(1, 0.5, 175)\n",
    "\n",
    "# interval B contains 100 points x \\in [1, 1.5] with purely positive labels\n",
    "x_B = np.random.uniform(1, 1.5, 100)\n",
    "y_B = np.repeat(1, 100)\n",
    "\n",
    "# interval C contains 75 points x ∈ [1.5, 2.0] with purely negative labels \n",
    "x_C = np.random.uniform(1.5, 2.0, 75)\n",
    "y_C = np.repeat(0, 75)\n",
    "\n",
    "\n",
    "n_bins = 50\n",
    "colors = ['blue', 'red']\n",
    "x = np.concatenate((x_A, x_B, x_C))\n",
    "y = np.concatenate((y_A, y_B, y_C))"
   ]
  },
  {
   "cell_type": "code",
   "execution_count": 22,
   "metadata": {},
   "outputs": [
    {
     "data": {
      "text/plain": [
       "Text(0.5, 1.0, 'Data with the learned Gaussian mixture overlaid')"
      ]
     },
     "execution_count": 22,
     "metadata": {},
     "output_type": "execute_result"
    },
    {
     "data": {
      "image/png": "[encoded data removed]",
      "text/plain": [
       "<Figure size 576x432 with 2 Axes>"
      ]
     },
     "metadata": {
      "needs_background": "light"
     },
     "output_type": "display_data"
    }
   ],
   "source": [
    "# plot this!\n",
    "# using the variable axs for multiple Axes\n",
    "fig, ax = plt.subplots(2)\n",
    "fig.set_size_inches(8,6)\n",
    "# fig = plt.figure()\n",
    "# ax = plt.axes()\n",
    "\n",
    "### can filter using np.extract(), perhaps\n",
    "red_indices = y == 1\n",
    "green_indices = y == 0\n",
    "x_red = np.extract(red_indices, x)\n",
    "x_green = np.extract(green_indices, x)\n",
    "\n",
    "### histogram first\n",
    "ax[0].hist(x_red, color=\"red\", histtype='stepfilled', density=True, alpha = 0.3, bins=40)\n",
    "ax[0].hist(x_green, color=\"green\", histtype='stepfilled', density=True, alpha = 0.3, bins=40)\n",
    "\n",
    "ax[1].hist(x_red, color=\"red\", density=True, alpha = 0.3, bins=40, histtype='step')\n",
    "ax[1].hist(x_green, color=\"green\", density=True, alpha = 0.3, bins=40, histtype='step')\n",
    "ax[1].set_title(\"Displaying data and labels only\")\n",
    "\n",
    "### overlay the gaussians\n",
    "\n",
    "# Assume the following learned parameters\n",
    "# z|\\pi ~ Categorical(\\pi)\n",
    "# y|z_k ~ Bernoulli(p_k) Given the comonent, probability of 1 = red\n",
    "# x_n|z_n ~ N()\n",
    "pi = np.array([0.5, 0.5]) # the mixture components are equally likely\n",
    "p = np.array([0.5, 0.70]) # when we're in the z = 1 cluster, we're sure we've got the (red|green) light (0.99, 0.01)\n",
    "mu = np.array([0.0, 1.25]) # the centers of the Gaussian mixtures, taken from the plot\n",
    "sigma = np.array([0.1, 0.01]) # the spread of the clusters\n",
    "\n",
    "x_grid = np.linspace(-1.0, 2.0, 100)\n",
    "ax[0].plot(x_grid, norm.pdf(x_grid, mu[0], sigma[0]), color=\"cyan\")\n",
    "ax[0].plot(x_grid, norm.pdf(x_grid, mu[1], sigma[1]), color=\"orange\")\n",
    "ax[0].set_title(\"Data with the learned Gaussian mixture overlaid\")"
   ]
  },
  {
   "cell_type": "code",
   "execution_count": 23,
   "metadata": {},
   "outputs": [
    {
     "data": {
      "text/plain": [
       "[<matplotlib.lines.Line2D at 0x1a24f10f28>]"
      ]
     },
     "execution_count": 23,
     "metadata": {},
     "output_type": "execute_result"
    },
    {
     "data": {
      "image/png": "[encoded data removed]",
      "text/plain": [
       "<Figure size 576x432 with 1 Axes>"
      ]
     },
     "metadata": {
      "needs_background": "light"
     },
     "output_type": "display_data"
    }
   ],
   "source": [
    "### The plugin-estimator way\n",
    "def get_posterior(x_test):\n",
    "    ''' Given a test point, return the posterior probability of y = 1 (red)'''\n",
    "    # Then compute the unnormalized prob of y=0\n",
    "    unnormalized_posterior_of_y0 = 0.0\n",
    "    for z in np.arange(2):\n",
    "        # p(z)*p(x|z)*p(y|z)\n",
    "        unnormalized_posterior_of_y0 += pi[z] * norm.pdf(x_test, mu[z], sigma[z]) * (1.0-p[z])\n",
    "        \n",
    "    # Then compute the unnormalized prob of y=1\n",
    "    unnormalized_posterior_of_y1 = 0.0\n",
    "    for z in np.arange(2):\n",
    "        # p(z)*p(x|z)*p(y|z)\n",
    "        unnormalized_posterior_of_y1 += pi[z] * norm.pdf(x_test, mu[z], sigma[z]) * p[z]\n",
    "    \n",
    "    normalization = unnormalized_posterior_of_y0 + unnormalized_posterior_of_y1\n",
    "    return unnormalized_posterior_of_y1/normalization\n",
    "\n",
    "x_test = np.linspace(-2, 2, 100)\n",
    "y_post = get_posterior(x_test)\n",
    "\n",
    "plugin_decision = np.argmax(np.column_stack((1.0-y_post, y_post)), axis=1)\n",
    "\n",
    "### The decision aware way: now what would this be.\n",
    "# U_xy is the utility of guessing x when it really is y\n",
    "U_rr = 101.0\n",
    "U_gr = 1.0\n",
    "U_gg = 101.0\n",
    "U_rg = 51.0\n",
    "threshold = (U_rr - U_gr)/(U_gg - U_rg)\n",
    "\n",
    "# The deicision function depends on the ratio P(y=0|x*)/P(y=1|x*)\n",
    "x_test = np.linspace(-1, 2, 100)\n",
    "# if the above ratio is less than the threshold, the decision is red\n",
    "decision = (1.0 - get_posterior(x_test))/get_posterior(x_test) < threshold\n",
    "\n",
    "fig = plt.figure()\n",
    "ax = plt.axes()\n",
    "fig.set_size_inches(8,6)\n",
    "ax.plot(x_test, y_post, \"--r\", label=\"posterior of y=1 (red)\")\n",
    "ax.set_title(\"The posterior probability of red (y=1)\")\n",
    "ax.plot(x_test, decision.astype(int), '--b', label=\"Decision aware decision\")\n",
    "ax.plot(x_test, plugin_decision -0.05, '--m', label=\"Plugin decision\") # -0.05 to make the line visible\n",
    "ax.legend(ncol = 3)\n",
    "ax.set_ylim(-0.5, 1.5)\n",
    "\n",
    "# copied and pasted from above--not ideal\n",
    "ax.hist(x_red, color=\"red\", histtype='stepfilled', density=True, alpha = 0.3, bins=40)\n",
    "ax.hist(x_green, color=\"green\", histtype='stepfilled', density=True, alpha = 0.3, bins=40)\n",
    "ax.plot(x_grid, norm.pdf(x_grid, mu[0], sigma[0]), color=\"cyan\")\n",
    "ax.plot(x_grid, norm.pdf(x_grid, mu[1], sigma[1]), color=\"orange\")\n",
    "\n",
    "# Start here: the plot looks decent but it's not right. The posterior of y = 1 should increase in the red zone, I think. \n",
    "# Further, the decision-aware decision should be 0 through out and 1...hmmmm. Need to be careful. Anyway good stuff.    "
   ]
  },
  {
   "cell_type": "markdown",
   "metadata": {},
   "source": [
    "So in this particular example, we always choose $y = 1$ (red). We're particularly confident near $x=1.25$, where the peak of the Gaussian confident Gaussian component resides. The decision made isn't nuanced at all, for example we don't adopt strategies like, go when we're absolutely sure the light is green. Otherwise, stop.\n",
    "\n",
    "I think we can vary this example to be something like, in some areas, the chances of green is 80%. The other cases, we have no idea---in this scenario we want it to stop, not flip a coin.\n",
    "\n",
    "Like we can say that this is a self-driving car, and the way light hits the traffic light makes it difficult to decide what is what, also the weather."
   ]
  },
  {
   "cell_type": "code",
   "execution_count": null,
   "metadata": {},
   "outputs": [],
   "source": []
  }
 ],
 "metadata": {
  "kernelspec": {
   "display_name": "Python 3",
   "language": "python",
   "name": "python3"
  },
  "language_info": {
   "codemirror_mode": {
    "name": "ipython",
    "version": 3
   },
   "file_extension": ".py",
   "mimetype": "text/x-python",
   "name": "python",
   "nbconvert_exporter": "python",
   "pygments_lexer": "ipython3",
   "version": "3.6.9"
  }
 },
 "nbformat": 4,
 "nbformat_minor": 4
}
