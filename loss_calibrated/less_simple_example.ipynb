{
 "cells": [
  {
   "cell_type": "code",
   "execution_count": 19,
   "metadata": {},
   "outputs": [],
   "source": [
    "%matplotlib inline\n",
    "import numpy as np\n",
    "import matplotlib.pyplot as plt\n",
    "\n",
    "import seaborn as sns"
   ]
  },
  {
   "cell_type": "markdown",
   "metadata": {},
   "source": [
    "Having gone through the simple example, let's consider the following 2D-data:\n",
    "\n",
    "This 2D example has three clusters. One of the clusters has the green and red labels (y) mixed, while the other two have homogenous labels.\n",
    "\n",
    "Running the regular mixture of Gaussians algorithms, we will find three identical clusters. Instead, we want a method that\n",
    "\n",
    "a) Learns the cluster means that splits the \"mixed\" cluster\n",
    "b) Once the proper gaussian parameters are learned, we can then make decisions.\n"
   ]
  },
  {
   "cell_type": "code",
   "execution_count": 27,
   "metadata": {},
   "outputs": [
    {
     "data": {
      "text/plain": [
       "<matplotlib.axes._subplots.AxesSubplot at 0x1a20f3bc18>"
      ]
     },
     "execution_count": 27,
     "metadata": {},
     "output_type": "execute_result"
    },
    {
     "data": {
      "image/png": "[encoded data removed]",
      "text/plain": [
       "<Figure size 432x288 with 1 Axes>"
      ]
     },
     "metadata": {
      "needs_background": "light"
     },
     "output_type": "display_data"
    }
   ],
   "source": [
    "# How about this:\n",
    "\n",
    "# Again, y = 0 = Green, y = 1 = Red\n",
    "# cluster 0 (z = 0): all Green points\n",
    "alpha = 0.05\n",
    "\n",
    "N_0 = 30\n",
    "u_0 = np.array([1,1])\n",
    "sigma_0 = alpha*np.eye(len(u_0))\n",
    "x_0 = np.random.multivariate_normal(u_0, sigma_0, N_0)\n",
    "y_0 = np.zeros(N_0)\n",
    "plt.scatter(x_0[:,0], x_0[:,1], c = y_0)\n",
    "\n",
    "\n",
    "# cluster 1 (z = 1): All red points (y = 1)\n",
    "N_1 = 30\n",
    "u_1 = np.array([-1,-1])\n",
    "sigma_1 = alpha*np.eye(len(u_1))\n",
    "x_1 = np.random.multivariate_normal(u_1, sigma_1, N_1)\n",
    "y_1 = np.ones(N_1)\n",
    "plt.scatter(x_1[:,0], x_1[:,1],c = y_1)\n",
    "\n",
    "\n",
    "# cluster 2 (z = 2): half of the points are green, half are red\n",
    "N_2 = 15 # times 2 really\n",
    "s = 0.3\n",
    "u_2a = np.array([-1,1]) - s\n",
    "u_2b = np.array([-1,1]) + s\n",
    "sigma_2 = alpha*np.eye(len(u_2))\n",
    "x_2a = np.random.multivariate_normal(u_2a, sigma_2, N_2)\n",
    "y_2a = np.zeros(N_2)\n",
    "\n",
    "x_2b = np.random.multivariate_normal(u_2b, sigma_2, N_2)\n",
    "y_2b = np.ones(N_2)\n",
    "\n",
    "x_2 = np.vstack((x_2a, x_2b))\n",
    "y_2 = np.concatenate((y_2a, y_2b))\n",
    "\n",
    "\n",
    "x = np.concatenate((x_0, x_1, x_2))\n",
    "y = np.concatenate((y_0, y_1, y_2))\n",
    "\n",
    "sns.scatterplot(x = x[:,0], y = x[:,1], hue = y, palette=['green', 'red'])"
   ]
  },
  {
   "cell_type": "markdown",
   "metadata": {},
   "source": [
    "Interlude: how does this compare to the nuclear reactor problem?\n",
    "The nuclear reactor problem is about modifying the posterior that is learned, which was a continuous random variable, the temperature. The analog in this case would be the means of the clusters.\n",
    "Someone must have done this before---supervised gaussian mixture?\n",
    "\n",
    "This looks to me like a problem best suited for something like SVM, which admittedly does not give us the distribution of the data, which is the whole point of the generative model.\n",
    "\n",
    "\n"
   ]
  },
  {
   "cell_type": "code",
   "execution_count": null,
   "metadata": {},
   "outputs": [],
   "source": [
    "# For now, let's forge ahead and see what the decisions will look like.\n"
   ]
  }
 ],
 "metadata": {
  "kernelspec": {
   "display_name": "Python 3",
   "language": "python",
   "name": "python3"
  },
  "language_info": {
   "codemirror_mode": {
    "name": "ipython",
    "version": 3
   },
   "file_extension": ".py",
   "mimetype": "text/x-python",
   "name": "python",
   "nbconvert_exporter": "python",
   "pygments_lexer": "ipython3",
   "version": "3.6.9"
  }
 },
 "nbformat": 4,
 "nbformat_minor": 4
}
