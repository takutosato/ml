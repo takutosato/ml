{
 "cells": [
  {
   "cell_type": "code",
   "execution_count": 28,
   "metadata": {},
   "outputs": [],
   "source": [
    "import numpy as np\n",
    "from scipy.stats import norm"
   ]
  },
  {
   "cell_type": "code",
   "execution_count": 110,
   "metadata": {},
   "outputs": [],
   "source": [
    "# loss matrix L_ij is the cost of guessing i when the truth is j\n",
    "L = np.array([[1,1,1], [1,1,5], [1,5,1]])\n",
    "\n",
    "# Transition matrix A_ij is the probabilty p(z_{t+1} = j|z_t = i)\n",
    "# i.e. A_ij is the probability of going from i to j\n",
    "K = 3\n",
    "A = np.array([[0.3, 0.3, 0.4], [0.2, 0.5, 0.3], [0.1, 0.1, 0.8]])\n",
    "\n",
    "# initial state probability\n",
    "pi = [ 0.6, 0.3, 0.1 ]\n",
    "\n",
    "# emission probabilities - assume Gaussian\n",
    "u = [ 1, 4, 5 ]\n",
    "sigma = [ 1, 1, 1.5 ]"
   ]
  },
  {
   "cell_type": "code",
   "execution_count": 111,
   "metadata": {},
   "outputs": [
    {
     "data": {
      "text/plain": [
       "array([1., 1., 1.])"
      ]
     },
     "execution_count": 111,
     "metadata": {},
     "output_type": "execute_result"
    }
   ],
   "source": [
    "np.argmax(np.random.multinomial(1, pi))\n",
    "np.sum(A, axis=1)"
   ]
  },
  {
   "cell_type": "code",
   "execution_count": 112,
   "metadata": {},
   "outputs": [],
   "source": [
    "# generate data\n",
    "T = 3\n",
    "def generate_HMM(T):\n",
    "    ''' TODO: loss calibrated data generation'''\n",
    "    X = np.zeros(T)\n",
    "    Z = np.zeros(T)\n",
    "    z = np.argmax(np.random.multinomial(1, pi))\n",
    "    for t in np.arange(T):\n",
    "        X[t] = np.random.normal(u[z], sigma[z])\n",
    "        Z[t] = z\n",
    "        z = np.argmax(np.random.multinomial(1, A[z,:]))\n",
    "    return X,Z\n",
    "X,Z = generate_HMM(T)"
   ]
  },
  {
   "cell_type": "code",
   "execution_count": 115,
   "metadata": {},
   "outputs": [],
   "source": [
    "def gaussian_emission_prob(x, state):\n",
    "    return norm.pdf(x, u[state], sigma[state])\n",
    "\n",
    "emission_prob = gaussian_emission_prob\n",
    "\n",
    "# loss calibrated Viterbi\n",
    "# the element S_ij stores guessing i at time t with z_{t+1}=j\n",
    "S_0 = np.zeros((K,K))\n",
    "\n",
    "# for t in np.arange(T):\n",
    "\n",
    "# time 0 (first step)\n",
    "for k in np.arange(K): # iterate over possible guesses at time t\n",
    "    for j in np.arange(K): # iterate over z_1\n",
    "        for i in np.arange(K): # sum over z_0\n",
    "            S_0[k,j] += L[k, i] * pi[i]* emission_prob(X[0], i) * A[i, j] * emission_prob(X[1], j)\n",
    "            \n",
    "# choose optimum guess z-hat at time 0 for each z_1\n",
    "phi0 = np.argmin(S_0, axis=0)\n",
    "\n",
    "# time 1\n",
    "S_1 = np.zeros((K,K))\n",
    "for k in np.arange(K): # iterate over possible guesses at time t\n",
    "    for j in np.arange(K): # iterate over z_{t+1}\n",
    "        for i in np.arange(K): # sum over z_t\n",
    "            S_1[k,j] += L[k, i] * A[i, j] * emission_prob(X[2], j) * S_0[phi0[j], i]\n",
    "            \n",
    "# choose optimum guess z-hat at time 0 for each z at time 1\n",
    "phi1 = np.argmin(S[1], axis=0)\n",
    "\n",
    "# time 2 (last step)\n",
    "S_2 = np.zeros((K,K))\n",
    "for k in np.arange(K): # iterate over possible guesses at time t\n",
    "    # no iteration over the next time step!\n",
    "    for i in np.arange(K): # sum over z_t\n",
    "        S_2[k,j] += L[k, i] * S_1[phi1[j], i]\n"
   ]
  },
  {
   "cell_type": "code",
   "execution_count": 116,
   "metadata": {},
   "outputs": [
    {
     "name": "stdout",
     "output_type": "stream",
     "text": [
      "[2.5972323  6.40258492 3.10673191]\n",
      "[1. 2. 2.]\n",
      "[[5.44728911e-09 9.60650545e-04 7.91207928e-03]\n",
      " [5.98746095e-09 1.02628702e-03 1.19648240e-02]\n",
      " [1.20036251e-08 2.95230731e-03 1.71352403e-02]]\n",
      "[[4.26427131e-05 3.40385060e-04 7.93597366e-04]\n",
      " [1.79886246e-04 1.18759852e-03 3.82974720e-03]\n",
      " [7.59697490e-05 8.54710086e-04 9.31835949e-04]]\n",
      "[[0.         0.         0.00519723]\n",
      " [0.         0.         0.02051622]\n",
      " [0.         0.         0.00994763]]\n"
     ]
    }
   ],
   "source": [
    "print(X)\n",
    "print(Z)\n",
    "print(S_0)\n",
    "print(S_1)\n",
    "print(S_2)"
   ]
  },
  {
   "cell_type": "code",
   "execution_count": 83,
   "metadata": {},
   "outputs": [
    {
     "data": {
      "text/plain": [
       "array([[6.78403540e-22, 8.58681719e+01, 4.66199771e-02],\n",
       "       [2.29617474e-22, 2.86697134e+01, 1.68132544e-02],\n",
       "       [4.52402987e-22, 5.72472552e+01, 3.11289563e-02]])"
      ]
     },
     "execution_count": 83,
     "metadata": {},
     "output_type": "execute_result"
    }
   ],
   "source": [
    "# return Viterbi path\n",
    "back tracing easy?"
   ]
  },
  {
   "cell_type": "code",
   "execution_count": 54,
   "metadata": {},
   "outputs": [
    {
     "data": {
      "text/plain": [
       "array([1, 2, 3])"
      ]
     },
     "execution_count": 54,
     "metadata": {},
     "output_type": "execute_result"
    }
   ],
   "source": [
    "np.arange(T)[1:]"
   ]
  },
  {
   "cell_type": "code",
   "execution_count": null,
   "metadata": {},
   "outputs": [],
   "source": []
  }
 ],
 "metadata": {
  "kernelspec": {
   "display_name": "Python 3",
   "language": "python",
   "name": "python3"
  },
  "language_info": {
   "codemirror_mode": {
    "name": "ipython",
    "version": 3
   },
   "file_extension": ".py",
   "mimetype": "text/x-python",
   "name": "python",
   "nbconvert_exporter": "python",
   "pygments_lexer": "ipython3",
   "version": "3.6.9"
  }
 },
 "nbformat": 4,
 "nbformat_minor": 4
}
